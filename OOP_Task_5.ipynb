{
  "nbformat": 4,
  "nbformat_minor": 0,
  "metadata": {
    "colab": {
      "name": "OOP Task 5",
      "provenance": [],
      "collapsed_sections": [],
      "authorship_tag": "ABX9TyNAYq7JHg5BZLqN20fQzvtG",
      "include_colab_link": true
    },
    "kernelspec": {
      "name": "python3",
      "display_name": "Python 3"
    },
    "language_info": {
      "name": "python"
    }
  },
  "cells": [
    {
      "cell_type": "markdown",
      "metadata": {
        "id": "view-in-github",
        "colab_type": "text"
      },
      "source": [
        "<a href=\"https://colab.research.google.com/github/Sreedeva/OOP-lab/blob/main/OOP_Task_5.ipynb\" target=\"_parent\"><img src=\"https://colab.research.google.com/assets/colab-badge.svg\" alt=\"Open In Colab\"/></a>"
      ]
    },
    {
      "cell_type": "code",
      "metadata": {
        "colab": {
          "base_uri": "https://localhost:8080/"
        },
        "id": "WzITrnhK7Vog",
        "outputId": "b78bcec8-ba45-4421-e21d-9a165b56d11e"
      },
      "source": [
        "#problem 1\n",
        "from abc import ABC, abstractmethod\n",
        "\n",
        "class Shape:\n",
        "  def __init__(self,shape):\n",
        "    self.shape = shape\n",
        "\n",
        "  @abstractmethod\n",
        "  def area(self):\n",
        "    pass\n",
        "\n",
        "class Circle(Shape):\n",
        "  pi = 3.14\n",
        "  def __init__(self,radius):\n",
        "    Shape.__init__(self,'Circle')\n",
        "    self.radius = radius\n",
        "  @property\n",
        "  def area(self):\n",
        "    area = Circle.pi * (self.radius)**2\n",
        "    return round(area,2)\n",
        "\n",
        "class Square(Shape):\n",
        "  def __init__(self,a):\n",
        "    Shape.__init__(self,'Square')\n",
        "    self.a = a\n",
        "  @property\n",
        "  def area(self):\n",
        "    return self.a**2\n",
        "\n",
        "class Rectangle(Shape):\n",
        "  def __init__(self,length,breadth):\n",
        "    Shape.__init__(self,'Rectangle')\n",
        "    self.length = length\n",
        "    self.breadth = breadth\n",
        "  @property\n",
        "  def area(self):\n",
        "    return self.length*self.breadth\n",
        "  \n",
        "rect = Rectangle(10,20).area\n",
        "circle = Circle(5).area\n",
        "square = Square(10).area\n",
        "\n",
        "print(f\"Circle: {circle}\\nRectangle: {rect}\\nSquare: {square}\")"
      ],
      "execution_count": null,
      "outputs": [
        {
          "output_type": "stream",
          "name": "stdout",
          "text": [
            "Circle: 78.5\n",
            "Rectangle: 200\n",
            "Square: 100\n"
          ]
        }
      ]
    },
    {
      "cell_type": "code",
      "metadata": {
        "colab": {
          "base_uri": "https://localhost:8080/"
        },
        "id": "V8uSEL5CPCvW",
        "outputId": "27718254-f577-431b-83d6-2bfef48a33cf"
      },
      "source": [
        "#problem 2\n",
        "from abc import ABC, abstractmethod\n",
        "\n",
        "class Travel:\n",
        "  def __init__(self, mode, distance, passengers):\n",
        "    self.mode = mode\n",
        "    self.distance = distance\n",
        "    self.__passengers = passengers\n",
        "\n",
        "  def passenger_count(self):\n",
        "    return self.__passengers\n",
        "  \n",
        "  @abstractmethod\n",
        "  def calc_cost(self):\n",
        "    pass\n",
        "\n",
        "class Bus(Travel):\n",
        "  def __init__(self, distance, passengers):\n",
        "    super().__init__('Bus', distance, passengers)\n",
        "\n",
        "  def get_passengers(self):\n",
        "    return super().passenger_count()\n",
        "\n",
        "  def calc_cost(self):\n",
        "    return self.get_passengers()*100\n",
        "\n",
        "\n",
        "class Train(Travel):\n",
        "  def __init__(self, distance, passengers):\n",
        "    super().__init__('Train', distance, passengers)\n",
        "\n",
        "  def get_passengers(self):\n",
        "    return super().passenger_count()\n",
        "\n",
        "  def calc_cost(self):\n",
        "    return self.get_passengers()*60\n",
        "\n",
        "b = Bus(30, 20)\n",
        "t = Train(50, 20)\n",
        "print(f'Cost of Trip by:\\nBus: {b.calc_cost()}\\nTrain: {t.calc_cost()}')"
      ],
      "execution_count": 27,
      "outputs": [
        {
          "output_type": "stream",
          "name": "stdout",
          "text": [
            "Cost of Trip by:\n",
            "Bus: 2000\n",
            "Train: 1200\n"
          ]
        }
      ]
    },
    {
      "cell_type": "code",
      "metadata": {
        "colab": {
          "base_uri": "https://localhost:8080/"
        },
        "id": "1zWsi3H5L17I",
        "outputId": "288e0d00-a6f9-4027-db6d-4bdcdc4d3064"
      },
      "source": [
        "#problem 3\n",
        "class Car:\n",
        "  def __init__(self,modelNo):\n",
        "    self.modelNo = modelNo\n",
        "  \n",
        "  @property\n",
        "  def show(self):\n",
        "    return self.modelNo\n",
        "  \n",
        "def swap(c1,c2):\n",
        "  c1.modelNo,c2.modelNo = c2.modelNo,c1.modelNo\n",
        "\n",
        "c1 = Car(101)\n",
        "c2 = Car(102)\n",
        "swap(c1,c2)\n",
        "print(f\"Car1 : {c1.show}, Car2 : {c2.show}\")"
      ],
      "execution_count": 25,
      "outputs": [
        {
          "output_type": "stream",
          "name": "stdout",
          "text": [
            "Car1 : 102, Car2 : 101\n"
          ]
        }
      ]
    }
  ]
}