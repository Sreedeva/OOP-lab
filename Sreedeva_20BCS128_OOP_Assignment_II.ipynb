{
  "nbformat": 4,
  "nbformat_minor": 0,
  "metadata": {
    "colab": {
      "name": "Sreedeva_20BCS128_OOP_Assignment-II.ipynb",
      "provenance": [],
      "collapsed_sections": [],
      "include_colab_link": true
    },
    "kernelspec": {
      "name": "python3",
      "display_name": "Python 3"
    },
    "language_info": {
      "name": "python"
    }
  },
  "cells": [
    {
      "cell_type": "markdown",
      "metadata": {
        "id": "view-in-github",
        "colab_type": "text"
      },
      "source": [
        "<a href=\"https://colab.research.google.com/github/Sreedeva/OOP-lab/blob/main/Sreedeva_20BCS128_OOP_Assignment_II.ipynb\" target=\"_parent\"><img src=\"https://colab.research.google.com/assets/colab-badge.svg\" alt=\"Open In Colab\"/></a>"
      ]
    },
    {
      "cell_type": "code",
      "metadata": {
        "colab": {
          "base_uri": "https://localhost:8080/"
        },
        "id": "00hTF2OlsQqA",
        "outputId": "6c4d0ec6-b77e-4747-b552-a5a5da4214d9"
      },
      "source": [
        "from math import pi\n",
        "\n",
        "class Circle:\n",
        "  def __init__(self, Radius):\n",
        "    self.Radius = Radius\n",
        "  def Area(self):\n",
        "    return (pi * (self.Radius ** 2))\n",
        "  def Perimeter(self):\n",
        "    return (2 * pi * self.Radius)\n",
        "\n",
        "r = float(input(\"Radius : \"))\n",
        "c = Circle(r)\n",
        "print(\"Area of Circle of Radius {0}  : {1:.3f}\".format(r, c.Area()))\n",
        "print(\"Area of Circle of Radius {0}  : {1:.3f}\".format(r, c.Perimeter()))"
      ],
      "execution_count": null,
      "outputs": [
        {
          "output_type": "stream",
          "name": "stdout",
          "text": [
            "Radius : 100\n",
            "Area of Circle of Radius 100.0  : 31415.93\n",
            "Area of Circle of Radius 100.0  : 628.32\n"
          ]
        }
      ]
    },
    {
      "cell_type": "code",
      "metadata": {
        "id": "iEw8lsePuhm_",
        "colab": {
          "base_uri": "https://localhost:8080/",
          "height": 664
        },
        "outputId": "0b09fbd0-1848-411b-9080-4eab751d662a"
      },
      "source": [
        "#problem 2\n",
        "\n",
        "import pandas as pd\n",
        "\n",
        "class Faculty:\n",
        "  Name=[]\n",
        "  Id=[]\n",
        "  Branch=[]\n",
        "  Salary=[]\n",
        "\n",
        "  def setData(self,name,id,branch,salary):\n",
        "    Faculty.Name.append(name)\n",
        "    Faculty.Id.append(id)\n",
        "    Faculty.Branch.append(branch)\n",
        "    Faculty.Salary.append(salary)\n",
        "  \n",
        "  def showData():\n",
        "    data_dict = {\n",
        "      'Name' : Faculty.Name,\n",
        "      'ID': Faculty.Id,\n",
        "      'Branch' : Faculty.Branch,\n",
        "      'Salary' : Faculty.Salary\n",
        "    }\n",
        "    df = pd.DataFrame(data_dict)\n",
        "    return df\n",
        "\n",
        "\n",
        "n = int(input(\"Number of Employees : \"))\n",
        "for i in range(n):\n",
        "  name = input(\"\\nEnter faculty name: \")\n",
        "  id = int(input(\"Enter id :\"))\n",
        "  branch = input(\"Enter branch name: \")\n",
        "  salary = int(input(\"Enter Salary :\"))\n",
        "  f = Faculty()\n",
        "  f.setData(name.capitalize(),id,branch.upper(),salary)\n",
        "\n",
        "\n",
        "Faculty.showData()"
      ],
      "execution_count": null,
      "outputs": [
        {
          "name": "stdout",
          "output_type": "stream",
          "text": [
            "Number of Employees : 5\n",
            "\n",
            "Enter faculty name: virat\n",
            "Enter id :18\n",
            "Enter branch name: ipl\n",
            "Enter Salary :170000000\n",
            "\n",
            "Enter faculty name: rohit\n",
            "Enter id :45\n",
            "Enter branch name: ipl\n",
            "Enter Salary :150000000\n",
            "\n",
            "Enter faculty name: bhuvaneshwar\n",
            "Enter id :14\n",
            "Enter branch name: ipl\n",
            "Enter Salary :500000000\n",
            "\n",
            "Enter faculty name: chahal\n",
            "Enter id :3\n",
            "Enter branch name: ipl\n",
            "Enter Salary :86567865\n",
            "\n",
            "Enter faculty name: abd\n",
            "Enter id :17\n",
            "Enter branch name: ipl\n",
            "Enter Salary :170000000\n"
          ]
        },
        {
          "output_type": "execute_result",
          "data": {
            "text/html": [
              "<div>\n",
              "<style scoped>\n",
              "    .dataframe tbody tr th:only-of-type {\n",
              "        vertical-align: middle;\n",
              "    }\n",
              "\n",
              "    .dataframe tbody tr th {\n",
              "        vertical-align: top;\n",
              "    }\n",
              "\n",
              "    .dataframe thead th {\n",
              "        text-align: right;\n",
              "    }\n",
              "</style>\n",
              "<table border=\"1\" class=\"dataframe\">\n",
              "  <thead>\n",
              "    <tr style=\"text-align: right;\">\n",
              "      <th></th>\n",
              "      <th>Name</th>\n",
              "      <th>ID</th>\n",
              "      <th>Branch</th>\n",
              "      <th>Salary</th>\n",
              "    </tr>\n",
              "  </thead>\n",
              "  <tbody>\n",
              "    <tr>\n",
              "      <th>0</th>\n",
              "      <td>Virat</td>\n",
              "      <td>18</td>\n",
              "      <td>IPL</td>\n",
              "      <td>170000000</td>\n",
              "    </tr>\n",
              "    <tr>\n",
              "      <th>1</th>\n",
              "      <td>Rohit</td>\n",
              "      <td>45</td>\n",
              "      <td>IPL</td>\n",
              "      <td>150000000</td>\n",
              "    </tr>\n",
              "    <tr>\n",
              "      <th>2</th>\n",
              "      <td>Bhuvaneshwar</td>\n",
              "      <td>14</td>\n",
              "      <td>IPL</td>\n",
              "      <td>500000000</td>\n",
              "    </tr>\n",
              "    <tr>\n",
              "      <th>3</th>\n",
              "      <td>Chahal</td>\n",
              "      <td>3</td>\n",
              "      <td>IPL</td>\n",
              "      <td>86567865</td>\n",
              "    </tr>\n",
              "    <tr>\n",
              "      <th>4</th>\n",
              "      <td>Abd</td>\n",
              "      <td>17</td>\n",
              "      <td>IPL</td>\n",
              "      <td>170000000</td>\n",
              "    </tr>\n",
              "  </tbody>\n",
              "</table>\n",
              "</div>"
            ],
            "text/plain": [
              "           Name  ID Branch     Salary\n",
              "0         Virat  18    IPL  170000000\n",
              "1         Rohit  45    IPL  150000000\n",
              "2  Bhuvaneshwar  14    IPL  500000000\n",
              "3        Chahal   3    IPL   86567865\n",
              "4           Abd  17    IPL  170000000"
            ]
          },
          "metadata": {},
          "execution_count": 16
        }
      ]
    },
    {
      "cell_type": "code",
      "metadata": {
        "id": "Uy1ymG3XxWqW",
        "colab": {
          "base_uri": "https://localhost:8080/"
        },
        "outputId": "ff94fef6-4039-4029-9e01-e6c12a1c1d59"
      },
      "source": [
        "##Problem 3\n",
        "\n",
        "class Account:\n",
        "  def __init__(self):\n",
        "    self.AccountNo = input(\"Account Number : \")\n",
        "    self.AccountHolder = input(\"Name : \")\n",
        "    self.Amount = 100000.00\n",
        "\n",
        "  def AccountDetails(self):\n",
        "    print(\"\\nAccount Details :\")\n",
        "    print(\"Account Number : \", self.AccountNo)\n",
        "    print(\"Account Holder Name : \", self.AccountHolder)\n",
        "    print(\"Account Balance : \", self.Amount)\n",
        "  \n",
        "  def Deposit(self):\n",
        "    Amount1 = float(input(\"\\nEnter Amount for Deposit : \"))\n",
        "    self.Amount += Amount1\n",
        "    print(\"Account Balance : \", self.Amount)\n",
        "  \n",
        "  def Withdraw(self):\n",
        "    Amount2 = float(input(\"\\nEnter Amount to Withdraw : \"))\n",
        "    if Amount2 <= self.Amount:\n",
        "      self.Amount -= Amount2\n",
        "      print(\"Transaction Successful\")\n",
        "      print(\"Account Balance : \", self.Amount)\n",
        "    else:\n",
        "      print(\"Insufficient Account Balance\")\n",
        "      print(\"Transaction Failed\")\n",
        "  \n",
        "  def chkBalance(self):\n",
        "    print(\"\\nAccount Balance : \", self.Amount)\n",
        "\n",
        "acc = Account()\n",
        "\n",
        "\n",
        "while True:\n",
        "  print('\\n1. Account Details\\t2. Deposit Amount \\n3.Withdraw Amount \\t4.Check Balance in Account \\n5. Exit system')\n",
        "  ch = int(input('\\nSelect method :'))\n",
        "  if ch == 1:\n",
        "    acc.AccountDetails()\n",
        "  elif ch == 2:\n",
        "    acc.Deposit() \n",
        "  elif ch == 3:\n",
        "    acc.Withdraw()\n",
        "  elif ch == 4:\n",
        "    acc.chkBalance()\n",
        "  elif ch == 5:\n",
        "    print('\\n\\nThank you for using this system!\\n\\n')\n",
        "    break\n",
        "  else:\n",
        "    print(\"\\n\\nWrong Choice!! Try Again!!\")"
      ],
      "execution_count": null,
      "outputs": [
        {
          "output_type": "stream",
          "name": "stdout",
          "text": [
            "Account Number : BANK987654345678F\n",
            "Name : Sreedeva\n",
            "\n",
            "1. Account Details\t2. Deposit Amount \n",
            "3.Withdraw Amount \t4.Check Balance in Account \n",
            "5. Exit system\n",
            "\n",
            "Select method :1\n",
            "\n",
            "Account Details :\n",
            "Account Number :  BANK987654345678F\n",
            "Account Holder Name :  Sreedeva\n",
            "Account Balance :  100000.0\n",
            "\n",
            "1. Account Details\t2. Deposit Amount \n",
            "3.Withdraw Amount \t4.Check Balance in Account \n",
            "5. Exit system\n",
            "\n",
            "Select method :2\n",
            "\n",
            "Enter Amount for Deposit : 10000\n",
            "Account Balance :  110000.0\n",
            "\n",
            "1. Account Details\t2. Deposit Amount \n",
            "3.Withdraw Amount \t4.Check Balance in Account \n",
            "5. Exit system\n",
            "\n",
            "Select method :3\n",
            "\n",
            "Enter Amount to Withdraw : 20500\n",
            "Transaction Successful\n",
            "Account Balance :  89500.0\n",
            "\n",
            "1. Account Details\t2. Deposit Amount \n",
            "3.Withdraw Amount \t4.Check Balance in Account \n",
            "5. Exit system\n",
            "\n",
            "Select method :4\n",
            "\n",
            "Account Balance :  89500.0\n",
            "\n",
            "1. Account Details\t2. Deposit Amount \n",
            "3.Withdraw Amount \t4.Check Balance in Account \n",
            "5. Exit system\n",
            "\n",
            "Select method :5\n",
            "\n",
            "\n",
            "Thank you for using this system!\n",
            "\n",
            "\n"
          ]
        }
      ]
    },
    {
      "cell_type": "code",
      "metadata": {
        "id": "SIifB-HM0gkk",
        "colab": {
          "base_uri": "https://localhost:8080/"
        },
        "outputId": "e7c3b9e4-efbe-4bf9-f0fa-ced85e8da68c"
      },
      "source": [
        "##Problem 4\n",
        "\n",
        "class Student:\n",
        "\n",
        "  def __init__(self, Name, USN):\n",
        "    self.Name = Name\n",
        "    self.USN = USN\n",
        "    self.Marks = []\n",
        "\n",
        "  def setData(self):\n",
        "    N = int(input(\"Enter number of Subjects : \"))\n",
        "    for i in range(N):\n",
        "      self.Marks.append(int(input(f\"Enter Marks of subject{i+1} : \")))\n",
        "  \n",
        "  def showData(self):\n",
        "    print(\"\\nStudent Name : \", self.Name)\n",
        "    print(\"USN : \", self.USN)\n",
        "    for i in range(len(self.Marks)):\n",
        "      print(f\"Marks in Subject {i+1} : {self.Marks[i]}\")\n",
        "\n",
        "Name = input(\"Student Name : \")\n",
        "USN = input(\"USN : \")\n",
        "s = Student(Name, USN)\n",
        "s.setData()\n",
        "s.showData()"
      ],
      "execution_count": null,
      "outputs": [
        {
          "output_type": "stream",
          "name": "stdout",
          "text": [
            "Student Name : Sreedeva\n",
            "USN : 20bcs128\n",
            "Enter number of Subjects : 3\n",
            "Enter Marks of subject1 : 80\n",
            "Enter Marks of subject2 : 90\n",
            "Enter Marks of subject3 : 90\n",
            "\n",
            "Student Name :  Sreedeva\n",
            "USN :  20bcs128\n",
            "Marks in Subject 1 : 80\n",
            "Marks in Subject 2 : 90\n",
            "Marks in Subject 3 : 90\n"
          ]
        }
      ]
    },
    {
      "cell_type": "code",
      "metadata": {
        "id": "qZKub7EZ4krK",
        "colab": {
          "base_uri": "https://localhost:8080/"
        },
        "outputId": "857ac8d0-a401-4a0f-92eb-ecdb004db013"
      },
      "source": [
        "##Problem 5\n",
        "\n",
        "class Hospital:\n",
        "  def __init__(self):\n",
        "    self.Patients = {}\n",
        "    self.Test = 0\n",
        "\n",
        "  def enterDetails(self):\n",
        "    N = int(input(\"Number of Patients : \"))\n",
        "    for i in range(N):\n",
        "      self.Test += 1\n",
        "      Name = input(\"Patients Name : \")\n",
        "      DateofAdmission = input(\"Date of Admission : \")\n",
        "      Symptoms = []\n",
        "      ns = int(input(\"Number of Symptoms : \"))\n",
        "      for i in range(ns):\n",
        "        Symptoms.append(input(\"Symptom : \"))\n",
        "      Oxylvl = int(input(\"Oxygen Level : \"))\n",
        "      self.Patients[Name] = {}\n",
        "      self.Patients[Name][\"Date of Admission\"] = DateofAdmission\n",
        "      self.Patients[Name][\"Symptoms\"] = Symptoms\n",
        "      self.Patients[Name][\"Oxygen Level\"] = Oxylvl\n",
        "\n",
        "  def status(self):\n",
        "    for Name in self.Patients:\n",
        "      if self.Patients[Name][\"Oxygen Level\"] < 90:\n",
        "        self.Patients[Name][\"Status\"] = \"Severe\"\n",
        "        print(\"{0} is on Oxygen Support\".format(Name))\n",
        "      else:\n",
        "      #assuming date of discharge will be known after oxygen state is normal\n",
        "        self.Patients[Name][\"Status\"] = \"Normal\"\n",
        "        DateofDischarge = input(\"Date of Discharge : \")\n",
        "        self.Patients[Name][\"Date of Discharge\"] = DateofDischarge\n",
        "        print(\"{0} is on General Observation Ward\".format(Name))\n",
        "\n",
        "  def requirement(self):\n",
        "    No = Nw = 0\n",
        "    for Name in self.Patients:\n",
        "      if self.Patients[Name][\"Oxygen Level\"] < 90:\n",
        "        No += 1\n",
        "      else:\n",
        "        Nw += 1\n",
        "    print(\"{0} Patients require Oxygen Support\".format(No))\n",
        "    print(\"{0} Patients are in General Ward\".format(Nw))\n",
        "    print(\"Total Patients : {0}\".format(self.Test))\n",
        "  \n",
        "hos = Hospital()\n",
        "hos.enterDetails()\n",
        "hos.status()\n",
        "hos.requirement()"
      ],
      "execution_count": 5,
      "outputs": [
        {
          "output_type": "stream",
          "name": "stdout",
          "text": [
            "Number of Patients : 1\n",
            "Patients Name : sdfgh\n",
            "Date of Admission : 23345\n",
            "Number of Symptoms : 1\n",
            "Symptom : rfgy\n",
            "Oxygen Level : 92\n",
            "Date of Discharge : 2324354\n",
            "sdfgh is on General Observation Ward\n",
            "0 Patients require Oxygen Support\n",
            "1 Patients are in General Ward\n",
            "Total Patients : 1\n"
          ]
        }
      ]
    },
    {
      "cell_type": "code",
      "metadata": {
        "colab": {
          "base_uri": "https://localhost:8080/"
        },
        "id": "VrsHL52GdHZp",
        "outputId": "fdecfcd2-4ea1-4257-fb9b-dedd075d0737"
      },
      "source": [
        "##Problem 6\n",
        "from pytz import timezone as tz\n",
        "import datetime\n",
        "\n",
        "class Time:\n",
        "  def __init__(self):\n",
        "    self.hours = 0\n",
        "    self.minutes = 0\n",
        "    self.seconds = 0\n",
        "  \n",
        "  def setData(self):\n",
        "    self.hours = int(datetime.datetime.now(tz(\"Asia/Kolkata\")).hour)\n",
        "    self.minutes = int(datetime.datetime.now(tz(\"Asia/Kolkata\")).minute)\n",
        "    self.seconds = int(datetime.datetime.now(tz(\"Asia/Kolkata\")).second)\n",
        "  \n",
        "  def show(self):\n",
        "    self.setData()\n",
        "    print(\"Time in (hh:mm:ss) format : {0}:{1}:{2}\".format(self.hours, self.minutes, self.seconds))\n",
        "\n",
        "t = Time()\n",
        "t.show()"
      ],
      "execution_count": null,
      "outputs": [
        {
          "output_type": "stream",
          "name": "stdout",
          "text": [
            "Time in (hh:mm:ss) format : 22:43:26\n"
          ]
        }
      ]
    },
    {
      "cell_type": "code",
      "metadata": {
        "colab": {
          "base_uri": "https://localhost:8080/"
        },
        "id": "pEzDHHMcdtRE",
        "outputId": "c820e727-ef1a-4b17-b8cc-a9cad9cdc82e"
      },
      "source": [
        "#problem 7\n",
        "\n",
        "class Student:\n",
        "  def __init__(self,name,age,rollno):\n",
        "    self.name = name\n",
        "    self.age = age\n",
        "    self.rollno = rollno\n",
        "  \n",
        "\n",
        "s1 = Student(\"Rahul\",21,33)\n",
        "s2 = Student(\"Rohit\",22,74)\n",
        "def compare():\n",
        "  if s1.age == s2.age:\n",
        "    print(\"Both age are equal\")\n",
        "  else:\n",
        "    print(\"Both age are not equal\")\n",
        "\n",
        "compare()"
      ],
      "execution_count": null,
      "outputs": [
        {
          "output_type": "stream",
          "name": "stdout",
          "text": [
            "Both age are not equal\n"
          ]
        }
      ]
    },
    {
      "cell_type": "code",
      "metadata": {
        "id": "F4Ik1gW5e48i",
        "colab": {
          "base_uri": "https://localhost:8080/"
        },
        "outputId": "c345dc48-785b-4fce-98d0-5962e47929d8"
      },
      "source": [
        "##Problem 8\n",
        "\n",
        "class Student:\n",
        "  Inst = \"IIIT Dharwad\"\n",
        "  Sem = 3\n",
        "  \n",
        "  def __init__(self, Name, USN):\n",
        "    self.Name = Name\n",
        "    self.USN = USN\n",
        "  \n",
        "  def display1(self):\n",
        "    print(\"Student Name : \", self.Name)\n",
        "    print(\"Student USN : \", self.USN)\n",
        "\n",
        "  @classmethod\n",
        "  def display2(cls):\n",
        "    print(\"Student Semester : \", cls.Sem)\n",
        "    print(\"Student Institute : \", cls.Inst)\n",
        "  \n",
        "  @staticmethod\n",
        "  def Exp():\n",
        "    print(\"\"\"\n",
        "Class :-\n",
        "    A class is a user-defined blueprint or prototype from which objects are created.\n",
        "    Classes provide a means of bundling data and functionality together.\n",
        "\n",
        "This is Student class to store Student Details.\"\"\")\n",
        "\n",
        "s = Student(\"Sreedeva\", \"2092\")\n",
        "s.display1()\n",
        "Student.display2()\n",
        "s.Exp()"
      ],
      "execution_count": 7,
      "outputs": [
        {
          "output_type": "stream",
          "name": "stdout",
          "text": [
            "Student Name :  Sreedeva\n",
            "Student USN :  2092\n",
            "Student Semester :  0\n",
            "Student Institute :  IIIT Dharwad\n",
            "\n",
            "Class :-\n",
            "    A class is a user-defined blueprint or prototype from which objects are created.\n",
            "    Classes provide a means of bundling data and functionality together.\n",
            "\n",
            "This is Student class to store Student Details.\n"
          ]
        }
      ]
    },
    {
      "cell_type": "code",
      "metadata": {
        "colab": {
          "base_uri": "https://localhost:8080/"
        },
        "id": "qjOtAmpupMMR",
        "outputId": "51beabde-6b07-4717-a7dd-86acd0d46e76"
      },
      "source": [
        "##Problem 9\n",
        "\n",
        "class Student:\n",
        "  def __init__(self):\n",
        "    self.Name = input(\"Student Name : \")\n",
        "    self.RollNo = input(\"Student RollNo : \")\n",
        "    self.Sem = int(input(\"Semester : \"))\n",
        "\n",
        "  def Show(self):\n",
        "    print(\"Student Details\")\n",
        "    print(\"Student Name : \", self.Name)\n",
        "    print(\"Student RollNo : \", self.RollNo)\n",
        "    print(\"Semester : \", self.Sem)\n",
        "\n",
        "  class Laptop:\n",
        "    def __init__(self, CPU, RAM, SSD,display):\n",
        "      self.CPU = CPU\n",
        "      self.RAM = RAM\n",
        "      self.SSD = SSD\n",
        "      self.display = display\n",
        "    \n",
        "    def Show(self):\n",
        "      print(\"\\nCPU : \", self.CPU)\n",
        "      print(\"RAM : \", self.RAM)\n",
        "      print(\"HDD : \", self.SSD)\n",
        "      print(\"Display : \", self.display)\n",
        "\n",
        "    \n",
        "  l1 = Laptop(\"Intel\", \"8 GB\", \"512 GB\", \"LED\")\n",
        "  l2 = Laptop(\"Ryzen\", \"16 GB\", \"1 TB\", \"LED\")\n",
        "  l1.Show()\n",
        "  l2.Show()\n",
        "\n",
        "s = Student()\n",
        "s.Show()"
      ],
      "execution_count": null,
      "outputs": [
        {
          "output_type": "stream",
          "name": "stdout",
          "text": [
            "\n",
            "CPU :  Intel\n",
            "RAM :  8 GB\n",
            "HDD :  512 GB\n",
            "Display :  LED\n",
            "\n",
            "CPU :  Ryzen\n",
            "RAM :  16 GB\n",
            "HDD :  1 TB\n",
            "Display :  LED\n",
            "Student Name : Sreedeva\n",
            "Student RollNo : 20BCS128\n",
            "Semester : 3\n",
            "Student Details\n",
            "Student Name :  Sreedeva\n",
            "Student RollNo :  20BCS128\n",
            "Semester :  3\n"
          ]
        }
      ]
    }
  ]
}