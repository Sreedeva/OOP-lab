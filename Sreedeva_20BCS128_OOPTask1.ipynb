{
  "nbformat": 4,
  "nbformat_minor": 0,
  "metadata": {
    "colab": {
      "name": "Sreedeva_20BCS128_OOPTask1.ipynb",
      "provenance": [],
      "authorship_tag": "ABX9TyNKfWvGoJqPtOk5HU1QpHtG",
      "include_colab_link": true
    },
    "kernelspec": {
      "name": "python3",
      "display_name": "Python 3"
    },
    "language_info": {
      "name": "python"
    }
  },
  "cells": [
    {
      "cell_type": "markdown",
      "metadata": {
        "id": "view-in-github",
        "colab_type": "text"
      },
      "source": [
        "<a href=\"https://colab.research.google.com/github/Sreedeva/OOP-lab/blob/main/Sreedeva_20BCS128_OOPTask1.ipynb\" target=\"_parent\"><img src=\"https://colab.research.google.com/assets/colab-badge.svg\" alt=\"Open In Colab\"/></a>"
      ]
    },
    {
      "cell_type": "markdown",
      "metadata": {
        "id": "2ZmsmQHUWSw9"
      },
      "source": [
        "##Problem-I"
      ]
    },
    {
      "cell_type": "code",
      "metadata": {
        "colab": {
          "base_uri": "https://localhost:8080/"
        },
        "id": "WlNZIk8vHorA",
        "outputId": "585a1d86-fcca-48c9-bbd5-c4b8a9da10d7"
      },
      "source": [
        "def is_leap(year):\n",
        "  if ((year%400 == 0) or ((year % 4 == 0) and (year %100 !=0))):\n",
        "    return True\n",
        "  else:\n",
        "    return False\n",
        "def print_statement():\n",
        "  if is_leap(year) == True:\n",
        "    print(f\"{year} is a Leap Year.\")\n",
        "  else:\n",
        "    print(f\"{year} is not a Leap year\")\n",
        "\n",
        "year = int(input(\"Enter The Year :\" ))\n",
        "print_statement()"
      ],
      "execution_count": 6,
      "outputs": [
        {
          "output_type": "stream",
          "name": "stdout",
          "text": [
            "Enter The Year :2024\n",
            "2024 is a Leap Year.\n"
          ]
        }
      ]
    },
    {
      "cell_type": "markdown",
      "metadata": {
        "id": "FbkPT7S3WREt"
      },
      "source": [
        "##Problem-II"
      ]
    },
    {
      "cell_type": "code",
      "metadata": {
        "colab": {
          "base_uri": "https://localhost:8080/"
        },
        "id": "1ayEASO0IGl4",
        "outputId": "ca92829d-32d0-46b6-e3fa-27d19c1d08af"
      },
      "source": [
        "n = int(input(\"Enter a number : \"))\n",
        "if (n%2 != 0 or n>=6 and n<=20):\n",
        "  print(\"Weird\")\n",
        "elif(n%2==0 and (n>=2 and n<=5 or n>=20)):\n",
        "  print(\"Not Weird\")"
      ],
      "execution_count": 49,
      "outputs": [
        {
          "output_type": "stream",
          "name": "stdout",
          "text": [
            "Enter a number : 10\n",
            "Weird\n"
          ]
        }
      ]
    },
    {
      "cell_type": "markdown",
      "metadata": {
        "id": "-QUSiqwfWOpe"
      },
      "source": [
        "##Problem-III"
      ]
    },
    {
      "cell_type": "code",
      "metadata": {
        "colab": {
          "base_uri": "https://localhost:8080/"
        },
        "id": "Q8QVh99DI8Pp",
        "outputId": "df45cdf8-30dd-4184-8890-1b3e5e850a60"
      },
      "source": [
        "Arrivals = [\"Hardik\", \"Rahul\", \"Virat\", \"Rishabh\", \"Mahi\" ,\"Rohit\", \"Rahane\"]\n",
        "\n",
        "def is_Late(arrivals, person):\n",
        "  if (person in arrivals[(len(arrivals)//2):(len(arrivals)-1)]): #arivals[3:6]\n",
        "    print(f\"{person} is fashionably Late \")\n",
        "  else:\n",
        "    print(f\"{person} is not fashionably Late\")\n",
        "  \n",
        "\n",
        "person = input(\"Enter the name of person : \")\n",
        "is_Late(Arrivals,person.capitalize())"
      ],
      "execution_count": 48,
      "outputs": [
        {
          "output_type": "stream",
          "name": "stdout",
          "text": [
            "Enter the name of person : rishabh\n",
            "Rishabh is fashionably Late \n"
          ]
        }
      ]
    },
    {
      "cell_type": "markdown",
      "metadata": {
        "id": "A8qBRTw1WKBF"
      },
      "source": [
        "##Problem-IV"
      ]
    },
    {
      "cell_type": "code",
      "metadata": {
        "colab": {
          "base_uri": "https://localhost:8080/"
        },
        "id": "21iVsJUcI98o",
        "outputId": "d43117eb-bf21-4372-8ae2-e6eaee4f8028"
      },
      "source": [
        "def filter(doc_list, keyword):\n",
        "  result_list = []\n",
        "  for key in doc_list:\n",
        "    text = key.replace(\",\",\"\").replace(\".\",\"\").split()\n",
        "    for word in text:\n",
        "      word = word.lower()\n",
        "      if keyword.lower() == word:\n",
        "        result_list.append(key)\n",
        "  for result in result_list:\n",
        "    print(result)\n",
        "  \n",
        "doc_list = [\"The Learn Python Challenge Rohit.\", \"They bought a car\", \"bangalore\"]\n",
        "keyword = input(\"Enter the String: \")\n",
        "filter(doc_list,keyword)"
      ],
      "execution_count": 51,
      "outputs": [
        {
          "output_type": "stream",
          "name": "stdout",
          "text": [
            "Enter the String: BangaLORE\n",
            "bangalore\n"
          ]
        }
      ]
    },
    {
      "cell_type": "markdown",
      "metadata": {
        "id": "LwqhZ_7JWFui"
      },
      "source": [
        "##Problem-V"
      ]
    },
    {
      "cell_type": "code",
      "metadata": {
        "colab": {
          "base_uri": "https://localhost:8080/"
        },
        "id": "8sgAv1cxNk1R",
        "outputId": "3dd936ec-aa63-4574-a920-ef0abfd259a4"
      },
      "source": [
        "BP = float(input(\"Employee Basic Pay (BP) : \"))\n",
        "def calc_GP():\n",
        "  GP = BP*1.6\n",
        "  return GP\n",
        "print(f\"Gross Pay (GP) of Employee is {calc_GP()}\")"
      ],
      "execution_count": 58,
      "outputs": [
        {
          "output_type": "stream",
          "name": "stdout",
          "text": [
            "Employee Basic Pay (BP) : 120.21\n",
            "Gross Pay (GP) of Employee is 192.336\n"
          ]
        }
      ]
    }
  ]
}