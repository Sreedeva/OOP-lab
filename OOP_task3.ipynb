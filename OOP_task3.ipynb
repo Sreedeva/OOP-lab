{
  "nbformat": 4,
  "nbformat_minor": 0,
  "metadata": {
    "colab": {
      "name": "OOP_task3.ipynb",
      "provenance": [],
      "collapsed_sections": [],
      "authorship_tag": "ABX9TyPRAz5XLxzg5eC1qGon17sC",
      "include_colab_link": true
    },
    "kernelspec": {
      "name": "python3",
      "display_name": "Python 3"
    },
    "language_info": {
      "name": "python"
    }
  },
  "cells": [
    {
      "cell_type": "markdown",
      "metadata": {
        "id": "view-in-github",
        "colab_type": "text"
      },
      "source": [
        "<a href=\"https://colab.research.google.com/github/Sreedeva/OOP-lab/blob/main/OOP_task3.ipynb\" target=\"_parent\"><img src=\"https://colab.research.google.com/assets/colab-badge.svg\" alt=\"Open In Colab\"/></a>"
      ]
    },
    {
      "cell_type": "markdown",
      "metadata": {
        "id": "_gUi8tAwpUWS"
      },
      "source": [
        "Write a python program to demonstrate the inheritance principle of OOP. Create a\n",
        "Student class that includes student’s basic information : Name, Reg no, Age, Gender,\n",
        "Branch, Sem. Define functions to read and display basic information. Create a new class\n",
        "StudentResultInfo that inherits from Student class. Derived class will include student’s\n",
        "total marks, percentage and grade. Display student’s basic information and result\n",
        "information using derived class."
      ]
    },
    {
      "cell_type": "code",
      "metadata": {
        "colab": {
          "base_uri": "https://localhost:8080/"
        },
        "id": "p2vx5KDupW6j",
        "outputId": "f2eb03d0-db57-42aa-e659-dbd22441b551"
      },
      "source": [
        "class Student:\n",
        "  def __init__(self,name,regno,age,gender,branch,sem):\n",
        "    self.name = name\n",
        "    self.regno = regno\n",
        "    self.age = age\n",
        "    self.gender = gender\n",
        "    self.branch = branch\n",
        "    self.sem = sem\n",
        "\n",
        "  def display(self):\n",
        "    print(f\"\"\"Student Details:\n",
        "Name: {self.name}\n",
        "Regno: {self.regno}\n",
        "Age: {self.age}\n",
        "Gender: {self.gender}\n",
        "Branch: {self.branch}\n",
        "Semester: {self.sem}\n",
        "\"\"\",end = \"\")\n",
        "\n",
        "\n",
        "class StudentResultInfo(Student):\n",
        "  def __init__(self,name,regno,age,gender,branch,sem,marks,percentage,grade):\n",
        "    Student.__init__(self,name,regno,age,gender,branch,sem)\n",
        "    self.marks = marks\n",
        "    self.percentage = percentage\n",
        "    self.grade = grade\n",
        "  def display2(self):\n",
        "    Student.display(self)\n",
        "    print(\"Percentage: \",self.percentage)\n",
        "    print(\"Marks: \",self.marks)\n",
        "    print(\"Grade: \",self.grade)\n",
        "\n",
        "s = StudentResultInfo(\"Sreedeva\",\"20BCS128\",19,\"Male\",\"CSE\",3,[80,85,90,94],89,\"A\")\n",
        "s.display2()"
      ],
      "execution_count": 3,
      "outputs": [
        {
          "output_type": "stream",
          "name": "stdout",
          "text": [
            "Student Details:\n",
            "Name: Sreedeva\n",
            "Regno: 20BCS128\n",
            "Age: 19\n",
            "Gender: Male\n",
            "Branch: CSE\n",
            "Semester: 3\n",
            "Percentage:  89\n",
            "Marks:  [80, 85, 90, 94]\n",
            "Grade:  A\n"
          ]
        }
      ]
    },
    {
      "cell_type": "code",
      "metadata": {
        "colab": {
          "base_uri": "https://localhost:8080/"
        },
        "id": "COTMwtNgRI2s",
        "outputId": "d4c172ef-3d95-487a-d01f-278b9b9babaf"
      },
      "source": [
        "class PDFs:\n",
        "  def __init__(self, creator, description, size):\n",
        "    self.creator = creator\n",
        "    self.description = description\n",
        "    self.size = size\n",
        "\n",
        "  def displayInfo(self):\n",
        "    print(\"Created by:\",self.creator)\n",
        "    print(\"Description:\", self.description)\n",
        "    print(\"File size (in KBs):\", self.size)\n",
        "\n",
        "  def sizeLimit(self):\n",
        "    if self.size > 1000:\n",
        "      print(\"Size exceeds threshold.\\n\",end = \"\")\n",
        "\n",
        "class Pictures(PDFs):\n",
        "  def __init__(self, creator, description, size, dimension):\n",
        "    super().__init__(creator, description, size)\n",
        "    self.dimension = dimension\n",
        "\n",
        "  def displayPicInfo(self):\n",
        "    self.displayInfo()\n",
        "    print(\"Dimensions (in pixels):\", self.dimension)\n",
        "\n",
        "  def dimensionLimit(self):\n",
        "    dim = self.dimension.split(\"x\")\n",
        "    for d in dim:\n",
        "      if int(d) > 1000:\n",
        "        print(\"Picture Dimension is too large\")\n",
        "        break\n",
        "      \n",
        "pdf1 = PDFs(\"gfxghhgg\", \"fyhiguk\", 1114)\n",
        "pdf1.displayInfo()\n",
        "pdf1.sizeLimit()\n",
        "print()\n",
        "img = Pictures(\"ygihgujg\", \"kugukhyl\", 1229, \"1100x800\")\n",
        "img.displayPicInfo()\n",
        "img.sizeLimit()\n",
        "img.dimensionLimit()"
      ],
      "execution_count": 36,
      "outputs": [
        {
          "output_type": "stream",
          "name": "stdout",
          "text": [
            "Created by: gfxghhgg\n",
            "Description: fyhiguk\n",
            "File size (in KBs): 1114\n",
            "Size exceeds threshold.\n",
            "\n",
            "Created by: ygihgujg\n",
            "Description: kugukhyl\n",
            "File size (in KBs): 1229\n",
            "Dimensions (in pixels): 1100x800\n",
            "Size exceeds threshold.\n",
            "Picture Dimension is too large\n"
          ]
        }
      ]
    },
    {
      "cell_type": "code",
      "metadata": {
        "colab": {
          "base_uri": "https://localhost:8080/"
        },
        "id": "3eEI_cqEMisZ",
        "outputId": "8ad564b8-abc6-4d6b-c17b-ce807576e17e"
      },
      "source": [
        "class Vehicle:\n",
        "  def __init__(self, name, mileage, capacity):\n",
        "    self.name = name\n",
        "    self.mileage = mileage\n",
        "    self.capacity = capacity\n",
        "\n",
        "  def fare(self):\n",
        "    return self.capacity * 100\n",
        "\n",
        "class Bus(Vehicle):\n",
        "  def fare(self):\n",
        "    fare_car = self.capacity * 100 \n",
        "    total_fare = fare_car + (0.1 *fare_car)\n",
        "    return total_fare\n",
        "\n",
        "s = Bus(\"School Volvo\", 12, 50)\n",
        "print(\"Total Bus fare is:\", s.fare())"
      ],
      "execution_count": 11,
      "outputs": [
        {
          "output_type": "stream",
          "name": "stdout",
          "text": [
            "Total Bus fare is: 5500.0\n"
          ]
        }
      ]
    }
  ]
}