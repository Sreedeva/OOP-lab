{
  "nbformat": 4,
  "nbformat_minor": 0,
  "metadata": {
    "colab": {
      "name": "OOP Task 4.ipynb",
      "provenance": [],
      "collapsed_sections": [],
      "include_colab_link": true
    },
    "kernelspec": {
      "name": "python3",
      "display_name": "Python 3"
    },
    "language_info": {
      "name": "python"
    }
  },
  "cells": [
    {
      "cell_type": "markdown",
      "metadata": {
        "id": "view-in-github",
        "colab_type": "text"
      },
      "source": [
        "<a href=\"https://colab.research.google.com/github/Sreedeva/OOP-lab/blob/main/OOP_Task_4.ipynb\" target=\"_parent\"><img src=\"https://colab.research.google.com/assets/colab-badge.svg\" alt=\"Open In Colab\"/></a>"
      ]
    },
    {
      "cell_type": "code",
      "metadata": {
        "colab": {
          "base_uri": "https://localhost:8080/"
        },
        "id": "NodTTrGIZ8KG",
        "outputId": "029eee9f-ac94-432e-f901-3a4f4471ba93"
      },
      "source": [
        "# Program 1\n",
        "class Node:\n",
        "  def __init__(self,data):\n",
        "    self.data = data\n",
        "    self.next = None\n",
        "\n",
        "class Stack:\n",
        "  # head is default NULL\n",
        "  def __init__(self):\n",
        "    self.head = None\n",
        "\n",
        "  # Checks if stack is empty\n",
        "  def isempty(self):\n",
        "    if self.head == None:\n",
        "      return True\n",
        "    else:\n",
        "      return False\n",
        "\n",
        "  # Method to add data to the stack\n",
        "  # adds to the start of the stack\n",
        "  def push(self,data):\n",
        "    if self.head == None:\n",
        "      self.head=Node(data)\n",
        "    else:\n",
        "      newnode = Node(data)\n",
        "      newnode.next = self.head\n",
        "      self.head = newnode\n",
        "\n",
        "  # Remove element that is the current head (start of the stack)\n",
        "  def pop(self):\n",
        "    if self.isempty():\n",
        "      return None\n",
        "    else:\n",
        "      # Removes the head node and makes\n",
        "      #the preceeding one the new head\n",
        "      poppednode = self.head\n",
        "      self.head = self.head.next\n",
        "      poppednode.next = None\n",
        "      return poppednode.data\n",
        "\n",
        "  # Returns the head node data\n",
        "  def peek(self):\n",
        "    \n",
        "    if self.isempty():\n",
        "      return None\n",
        "      \n",
        "    else:\n",
        "      return self.head.data\n",
        "\n",
        "  # Prints out the stack\t\n",
        "  def display(self):\n",
        "    \n",
        "    iternode = self.head\n",
        "    if self.isempty():\n",
        "      print(\"Stack Underflow\")\n",
        "    \n",
        "    else:\n",
        "      while(iternode != None):\n",
        "        print(iternode.data,\"->\",end = \" \")\n",
        "        iternode = iternode.next\n",
        "      return\n",
        "    \n",
        "if __name__ == \"__main__\":\n",
        "  MyStack = Stack()\n",
        "  MyStack.push(11)\n",
        "  MyStack.push(22)\n",
        "  MyStack.push(33)\n",
        "  MyStack.push(44)\n",
        "  MyStack.display()\n",
        "\n",
        "  print(\"\\nTop element is \",MyStack.peek())\n",
        "\n",
        "  MyStack.pop()\n",
        "  MyStack.pop()\n",
        "  MyStack.display()\n",
        "\n",
        "  print(\"\\nTop element is \", MyStack.peek())"
      ],
      "execution_count": 7,
      "outputs": [
        {
          "output_type": "stream",
          "name": "stdout",
          "text": [
            "44 -> 33 -> 22 -> 11 -> \n",
            "Top element is  44\n",
            "22 -> 11 -> \n",
            "Top element is  22\n"
          ]
        }
      ]
    },
    {
      "cell_type": "code",
      "metadata": {
        "colab": {
          "base_uri": "https://localhost:8080/"
        },
        "id": "KqIgUMBbWzJ4",
        "outputId": "fafdb3c8-2d07-4092-dadf-d7871a8f299d"
      },
      "source": [
        "# Program 2\n",
        "\n",
        "# Parameterized constructor\n",
        "class Area(object):\n",
        "  def __init__(self, length, breadth):\n",
        "    self.length = length\n",
        "    self.breadth = breadth\n",
        "  \n",
        "  def Calculate(self):\n",
        "    print(f'Area : {self.length * self.breadth}')\n",
        "\n",
        "if __name__ == \"__main__\":\n",
        "  length, breadth = 15, 20\n",
        "  A = Area(length, breadth)\n",
        "  A.Calculate()\n",
        "\n",
        "# Default Constructor\n",
        "class Area(object):\n",
        "  def __init__(self):\n",
        "    self.length = 15\n",
        "    self.breadth = 20\n",
        "  def Calculate(self):\n",
        "    print(f'Area : {self.length * self.breadth}')\n",
        "\n",
        "if __name__ == \"__main__\":\n",
        "  A = Area()\n",
        "  A.Calculate()"
      ],
      "execution_count": null,
      "outputs": [
        {
          "output_type": "stream",
          "name": "stdout",
          "text": [
            "Area : 300\n",
            "Area : 300\n"
          ]
        }
      ]
    },
    {
      "cell_type": "code",
      "metadata": {
        "id": "Yzgaj9ImhWwd",
        "colab": {
          "base_uri": "https://localhost:8080/"
        },
        "outputId": "2831bb5b-632a-4490-a5aa-a74707e07e94"
      },
      "source": [
        "# Program 3\n",
        "class Queue(object):\n",
        "  def __init__(self, size):\n",
        "    self.queue = []\n",
        "    self.size = size\n",
        "\n",
        "  def __str__(self):\n",
        "    myString = ' '.join(str(i) for i in self.queue)\n",
        "    return myString\n",
        "\n",
        "  def enqueue(self, item):\n",
        "    if(self.isFull() != True):\n",
        "      self.queue.insert(0, item)\n",
        "    else:\n",
        "      print('Queue is Full!')\n",
        "\n",
        "  def dequeue(self):\n",
        "    if(self.isEmpty() != True):\n",
        "      return self.queue.pop()\n",
        "    else:\n",
        "      print('Queue is Empty!')\n",
        "\n",
        "  def isEmpty(self):\n",
        "    return self.queue == []\n",
        "\n",
        "  def isFull(self):\n",
        "    return len(self.queue) == self.size\n",
        "\n",
        "  def peek(self):\n",
        "    if(self.isEmpty() != True):\n",
        "      return self.queue[-1]\n",
        "    else:\n",
        "      print('Queue is Empty!')\n",
        "          \n",
        "\n",
        "if __name__ == '__main__':\n",
        "  myQueue = Queue(10)\n",
        "  myQueue.enqueue(4)\n",
        "  myQueue.enqueue(5)\n",
        "  myQueue.enqueue(6)\n",
        "  print(myQueue)\n",
        "  \n",
        "  myQueue.enqueue(1)\n",
        "  myQueue.enqueue(2)\n",
        "  myQueue.enqueue(3)\n",
        "  \n",
        "  print(myQueue)\n",
        "  \n",
        "  myQueue.dequeue()\n",
        "  \n",
        "  print(myQueue)"
      ],
      "execution_count": null,
      "outputs": [
        {
          "output_type": "stream",
          "name": "stdout",
          "text": [
            "6 5 4\n",
            "3 2 1 6 5 4\n",
            "3 2 1 6 5\n"
          ]
        }
      ]
    }
  ]
}